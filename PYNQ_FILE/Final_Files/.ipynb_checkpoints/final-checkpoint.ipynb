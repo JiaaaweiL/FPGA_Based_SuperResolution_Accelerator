{
 "cells": [
  {
   "cell_type": "code",
   "execution_count": 2,
   "id": "34ab9cea",
   "metadata": {},
   "outputs": [
    {
     "name": "stderr",
     "output_type": "stream",
     "text": [
      "\u001b[1m--- Opening /dev/video0...\n",
      "\u001b[0m\u001b[0mTrying source module v4l2...\n",
      "\u001b[0m\u001b[0m/dev/video0 opened.\n",
      "\u001b[0m\u001b[0mNo input was specified, using the first.\n",
      "\u001b[0m\u001b[0mAdjusting resolution from 384x288 to 352x288.\n",
      "\u001b[0m\u001b[1m--- Capturing frame...\n",
      "\u001b[0m\u001b[0mCaptured frame in 0.00 seconds.\n",
      "\u001b[0m\u001b[1m--- Processing captured image...\n",
      "\u001b[0m\u001b[0mWriting JPEG image to 'images/webcam_0.jpeg'.\n",
      "\u001b[0m"
     ]
    },
    {
     "name": "stdout",
     "output_type": "stream",
     "text": [
      "Image resized and saved as 'webcam_0_resized.jpeg'\n"
     ]
    },
    {
     "name": "stderr",
     "output_type": "stream",
     "text": [
      "\u001b[1m--- Opening /dev/video0...\n",
      "\u001b[0m\u001b[0mTrying source module v4l2...\n",
      "\u001b[0m\u001b[0m/dev/video0 opened.\n",
      "\u001b[0m\u001b[0mNo input was specified, using the first.\n",
      "\u001b[0m\u001b[0mAdjusting resolution from 384x288 to 352x288.\n",
      "\u001b[0m\u001b[1m--- Capturing frame...\n",
      "\u001b[0m\u001b[0mCaptured frame in 0.00 seconds.\n",
      "\u001b[0m\u001b[1m--- Processing captured image...\n",
      "\u001b[0m\u001b[0mWriting JPEG image to 'images/webcam_1.jpeg'.\n",
      "\u001b[0m"
     ]
    },
    {
     "name": "stdout",
     "output_type": "stream",
     "text": [
      "Image resized and saved as 'webcam_1_resized.jpeg'\n"
     ]
    },
    {
     "name": "stderr",
     "output_type": "stream",
     "text": [
      "\u001b[1m--- Opening /dev/video0...\n",
      "\u001b[0m\u001b[0mTrying source module v4l2...\n",
      "\u001b[0m\u001b[0m/dev/video0 opened.\n",
      "\u001b[0m\u001b[0mNo input was specified, using the first.\n",
      "\u001b[0m\u001b[0mAdjusting resolution from 384x288 to 352x288.\n",
      "\u001b[0m\u001b[1m--- Capturing frame...\n",
      "\u001b[0m\u001b[0mCaptured frame in 0.00 seconds.\n",
      "\u001b[0m\u001b[1m--- Processing captured image...\n",
      "\u001b[0m\u001b[0mWriting JPEG image to 'images/webcam_2.jpeg'.\n",
      "\u001b[0m"
     ]
    },
    {
     "name": "stdout",
     "output_type": "stream",
     "text": [
      "Image resized and saved as 'webcam_2_resized.jpeg'\n"
     ]
    },
    {
     "name": "stderr",
     "output_type": "stream",
     "text": [
      "\u001b[1m--- Opening /dev/video0...\n",
      "\u001b[0m\u001b[0mTrying source module v4l2...\n",
      "\u001b[0m\u001b[0m/dev/video0 opened.\n",
      "\u001b[0m\u001b[0mNo input was specified, using the first.\n",
      "\u001b[0m\u001b[0mAdjusting resolution from 384x288 to 352x288.\n",
      "\u001b[0m\u001b[1m--- Capturing frame...\n",
      "\u001b[0m\u001b[0mCaptured frame in 0.00 seconds.\n",
      "\u001b[0m\u001b[1m--- Processing captured image...\n",
      "\u001b[0m\u001b[0mWriting JPEG image to 'images/webcam_3.jpeg'.\n",
      "\u001b[0m"
     ]
    },
    {
     "name": "stdout",
     "output_type": "stream",
     "text": [
      "Image resized and saved as 'webcam_3_resized.jpeg'\n"
     ]
    },
    {
     "name": "stderr",
     "output_type": "stream",
     "text": [
      "\u001b[1m--- Opening /dev/video0...\n",
      "\u001b[0m\u001b[0mTrying source module v4l2...\n",
      "\u001b[0m\u001b[0m/dev/video0 opened.\n",
      "\u001b[0m\u001b[0mNo input was specified, using the first.\n",
      "\u001b[0m\u001b[0mAdjusting resolution from 384x288 to 352x288.\n",
      "\u001b[0m\u001b[1m--- Capturing frame...\n",
      "\u001b[0m\u001b[0mCaptured frame in 0.00 seconds.\n",
      "\u001b[0m\u001b[1m--- Processing captured image...\n",
      "\u001b[0m\u001b[0mWriting JPEG image to 'images/webcam_4.jpeg'.\n",
      "\u001b[0m"
     ]
    },
    {
     "name": "stdout",
     "output_type": "stream",
     "text": [
      "Image resized and saved as 'webcam_4_resized.jpeg'\n"
     ]
    },
    {
     "name": "stderr",
     "output_type": "stream",
     "text": [
      "\u001b[1m--- Opening /dev/video0...\n",
      "\u001b[0m\u001b[0mTrying source module v4l2...\n",
      "\u001b[0m\u001b[0m/dev/video0 opened.\n",
      "\u001b[0m\u001b[0mNo input was specified, using the first.\n",
      "\u001b[0m\u001b[0mAdjusting resolution from 384x288 to 352x288.\n",
      "\u001b[0m\u001b[1m--- Capturing frame...\n",
      "\u001b[0m\u001b[0mCaptured frame in 0.00 seconds.\n",
      "\u001b[0m\u001b[1m--- Processing captured image...\n",
      "\u001b[0m\u001b[0mWriting JPEG image to 'images/webcam_5.jpeg'.\n",
      "\u001b[0m"
     ]
    },
    {
     "name": "stdout",
     "output_type": "stream",
     "text": [
      "Image resized and saved as 'webcam_5_resized.jpeg'\n"
     ]
    },
    {
     "name": "stderr",
     "output_type": "stream",
     "text": [
      "\u001b[1m--- Opening /dev/video0...\n",
      "\u001b[0m\u001b[0mTrying source module v4l2...\n",
      "\u001b[0m\u001b[0m/dev/video0 opened.\n",
      "\u001b[0m\u001b[0mNo input was specified, using the first.\n",
      "\u001b[0m\u001b[0mAdjusting resolution from 384x288 to 352x288.\n",
      "\u001b[0m\u001b[1m--- Capturing frame...\n",
      "\u001b[0m\u001b[0mCaptured frame in 0.00 seconds.\n",
      "\u001b[0m\u001b[1m--- Processing captured image...\n",
      "\u001b[0m\u001b[0mWriting JPEG image to 'images/webcam_6.jpeg'.\n",
      "\u001b[0m"
     ]
    },
    {
     "name": "stdout",
     "output_type": "stream",
     "text": [
      "Image resized and saved as 'webcam_6_resized.jpeg'\n"
     ]
    },
    {
     "name": "stderr",
     "output_type": "stream",
     "text": [
      "\u001b[1m--- Opening /dev/video0...\n",
      "\u001b[0m\u001b[0mTrying source module v4l2...\n",
      "\u001b[0m\u001b[0m/dev/video0 opened.\n",
      "\u001b[0m\u001b[0mNo input was specified, using the first.\n",
      "\u001b[0m\u001b[0mAdjusting resolution from 384x288 to 352x288.\n",
      "\u001b[0m\u001b[1m--- Capturing frame...\n",
      "\u001b[0m\u001b[0mCaptured frame in 0.00 seconds.\n",
      "\u001b[0m\u001b[1m--- Processing captured image...\n",
      "\u001b[0m\u001b[0mWriting JPEG image to 'images/webcam_7.jpeg'.\n",
      "\u001b[0m"
     ]
    },
    {
     "name": "stdout",
     "output_type": "stream",
     "text": [
      "Image resized and saved as 'webcam_7_resized.jpeg'\n"
     ]
    },
    {
     "name": "stderr",
     "output_type": "stream",
     "text": [
      "\u001b[1m--- Opening /dev/video0...\n",
      "\u001b[0m\u001b[0mTrying source module v4l2...\n",
      "\u001b[0m\u001b[0m/dev/video0 opened.\n",
      "\u001b[0m\u001b[0mNo input was specified, using the first.\n",
      "\u001b[0m\u001b[0mAdjusting resolution from 384x288 to 352x288.\n",
      "\u001b[0m\u001b[1m--- Capturing frame...\n",
      "\u001b[0m\u001b[0mCaptured frame in 0.00 seconds.\n",
      "\u001b[0m\u001b[1m--- Processing captured image...\n",
      "\u001b[0m\u001b[0mWriting JPEG image to 'images/webcam_8.jpeg'.\n",
      "\u001b[0m"
     ]
    },
    {
     "name": "stdout",
     "output_type": "stream",
     "text": [
      "Image resized and saved as 'webcam_8_resized.jpeg'\n"
     ]
    },
    {
     "name": "stderr",
     "output_type": "stream",
     "text": [
      "\u001b[1m--- Opening /dev/video0...\n",
      "\u001b[0m\u001b[0mTrying source module v4l2...\n",
      "\u001b[0m\u001b[0m/dev/video0 opened.\n",
      "\u001b[0m\u001b[0mNo input was specified, using the first.\n",
      "\u001b[0m\u001b[0mAdjusting resolution from 384x288 to 352x288.\n",
      "\u001b[0m\u001b[1m--- Capturing frame...\n",
      "\u001b[0m\u001b[0mCaptured frame in 0.00 seconds.\n",
      "\u001b[0m\u001b[1m--- Processing captured image...\n",
      "\u001b[0m\u001b[0mWriting JPEG image to 'images/webcam_9.jpeg'.\n",
      "\u001b[0m"
     ]
    },
    {
     "name": "stdout",
     "output_type": "stream",
     "text": [
      "Image resized and saved as 'webcam_9_resized.jpeg'\n",
      "Input image size:  (64, 64, 3)\n",
      "height =  64\n",
      "Hardware FSRCNN execution time:  7.767727613449097\n",
      "Output image size:  (128, 128, 3)\n"
     ]
    }
   ],
   "source": [
    "import os\n",
    "import cv2\n",
    "\n",
    "os.makedirs('images', exist_ok=True)\n",
    "os.makedirs('outimages', exist_ok=True)\n",
    "#take a picture\n",
    "for i in range(100):\n",
    "    original_filename = f\"webcam_{i}.jpeg\"\n",
    "    resized_filename = f\"webcam_{i}_resized.jpeg\"\n",
    "    os.system(f\"fswebcam images/{original_filename}\")\n",
    "\n",
    "    image = cv2.imread(f\"images/{original_filename}\")\n",
    "\n",
    "\n",
    "    if image is not None:\n",
    "    \n",
    "        resized_image = cv2.resize(image, (64, 64))\n",
    "\n",
    "        cv2.imwrite(f\"images/{resized_filename}\", resized_image)\n",
    "        print(f\"Image resized and saved as '{resized_filename}'\")\n",
    "    else:\n",
    "        print(f\"Error: Image '{original_filename}' not found or unable to read.\")\n",
    "\n",
    "\n",
    "#using hardware to accelerate the super resolution for those 100 picture\n",
    "for i in range(100):\n",
    "    from pynq import Overlay\n",
    "    import pynq.lib.dma\n",
    "    overlay = Overlay('modified_mem.bit')\n",
    "    overlay.download()\n",
    "    dma = overlay.axi_dma_0\n",
    "    import cv2\n",
    "    import numpy as np\n",
    "    in_img = cv2.imread('images/webcam_0_resized.jpeg')\n",
    "    height, width, nr_of_channels = in_img.shape\n",
    "    print('Input image size: ',in_img.shape)\n",
    "    print(\"height = \", height)\n",
    "\n",
    "    \n",
    "    FSRCNN_ip = overlay.FSRCNN_0\n",
    "    scale_factor = 2\n",
    "    FSRCNN_ip.write(0x10,height)                            \n",
    "    FSRCNN_ip.write(0x18,width)  \n",
    "    FSRCNN_ip.write(0x20,scale_factor)                                                  \n",
    "    #verif_input_width = FSRCNN_ip.read(0x18)\n",
    "    verif_scale_factor = FSRCNN_ip.read(0x20)\n",
    "    \n",
    "    \n",
    "    from   pynq import allocate\n",
    "    import time\n",
    "    out_height = scale_factor*height\n",
    "    out_width  = scale_factor*width\n",
    "    size_stream_in    = height*width\n",
    "    size_stream_out   = out_height*out_width\n",
    "    red_channel_in    = allocate(shape=(size_stream_in,1),  dtype=np.uint32)\n",
    "    red_channel_out   = allocate(shape=(size_stream_out,1), dtype=np.uint32)\n",
    "    green_channel_in  = allocate(shape=(size_stream_in,1),  dtype=np.uint32)\n",
    "    green_channel_out = allocate(shape=(size_stream_out,1), dtype=np.uint32)\n",
    "    blue_channel_in   = allocate(shape=(size_stream_in,1),  dtype=np.uint32)\n",
    "    blue_channel_out  = allocate(shape=(size_stream_out,1), dtype=np.uint32)\n",
    "    k= 0\n",
    "    for i in range(height):\n",
    "        for j in range(width):\n",
    "                red_channel_in[k,0]   = in_img[i,j,0]\n",
    "                green_channel_in[k,0] = in_img[i,j,1]\n",
    "                blue_channel_in[k,0]  = in_img[i,j,2]\n",
    "                k = k + 1\n",
    "                \n",
    "    import time\n",
    "    from contextlib import suppress\n",
    "    start_time = time.time()\n",
    "    # Trigger the DMA transfer and wait for the result\n",
    "    dma.sendchannel.transfer(red_channel_in)  #python - dma - accelerator PYNQ\n",
    "    dma.recvchannel.transfer(red_channel_out) #PYNQ accelerator - dma - python\n",
    "    dma.sendchannel.wait()                    #makes sure that does not move on until the transfer is effectuated\n",
    "    stop_time = time.time()\n",
    "    with suppress(RuntimeError): \n",
    "        dma.recvchannel.wait()\n",
    "    red_channel_hw_exec_time = stop_time - start_time\n",
    "    \n",
    "    overlay = Overlay('modified_mem.bit')\n",
    "    # Load the DMA\n",
    "    dma = overlay.axi_dma_0 \n",
    "    # Load FSRCNN IP\n",
    "    FSRCNN_ip = overlay.FSRCNN_0\n",
    "    start_time = time.time()\n",
    "    # Trigger the DMA transfer and wait for the result\n",
    "    dma.sendchannel.transfer(green_channel_in)  #python - dma - accelerator PYNQ\n",
    "    dma.recvchannel.transfer(green_channel_out) #PYNQ accelerator - dma - python\n",
    "    dma.sendchannel.wait()                      #makes sure that does not move on until the transfer is effectuated\n",
    "    stop_time = time.time()\n",
    "    with suppress(RuntimeError):\n",
    "        dma.recvchannel.wait()\n",
    "    green_channel_hw_exec_time = stop_time - start_time\n",
    "    \n",
    "    \n",
    "    overlay = Overlay('modified_mem.bit')\n",
    "    # Load the DMA\n",
    "    dma = overlay.axi_dma_0 \n",
    "    # Load FSRCNN IP\n",
    "    FSRCNN_ip = overlay.FSRCNN_0\n",
    "    \n",
    "    start_time = time.time()\n",
    "    # Trigger the DMA transfer and wait for the result\n",
    "    dma.sendchannel.transfer(blue_channel_in)  #python - dma - accelerator PYNQ\n",
    "    dma.recvchannel.transfer(blue_channel_out) #PYNQ accelerator - dma - python\n",
    "    dma.sendchannel.wait()                     #makes sure that does not move on until the transfer is effectuated\n",
    "    stop_time = time.time()\n",
    "    with suppress(RuntimeError):\n",
    "        dma.recvchannel.wait()\n",
    "    blue_channel_hw_exec_time = stop_time - start_time\n",
    "    \n",
    "    hw_exec_time = red_channel_hw_exec_time + green_channel_hw_exec_time + blue_channel_hw_exec_time\n",
    "    print('Hardware FSRCNN execution time: ',hw_exec_time)\n",
    "    \n",
    "    output_img_name = f\"output{i}_size.jpeg\"\n",
    "    out_img = np.zeros((out_height, out_width, nr_of_channels))\n",
    "    print('Output image size: ',out_img.shape)\n",
    "    k = 0\n",
    "    for i in range(out_height):\n",
    "        for j in range(out_width):\n",
    "                red_channel_bin = np.binary_repr(red_channel_out[k,0], width = 32)\n",
    "                out_img[i,j,0] = int(str(red_channel_bin[24:32]), 2)\n",
    "                green_channel_bin = np.binary_repr(green_channel_out[k,0], width = 32)\n",
    "                out_img[i,j,1] = int(str(green_channel_bin[24:32]), 2)\n",
    "                blue_channel_bin = np.binary_repr(blue_channel_out[k,0], width = 32)\n",
    "                out_img[i,j,2] = int(str(blue_channel_bin[24:32]), 2)\n",
    "                k = k+1\n",
    "    cv2.imwrite(f\"outimages/{output_img_name}\", out_img)\n",
    "    \n",
    "    \n",
    "image_folder = 'outimages'\n",
    "video_name = 'output.avi'\n",
    "\n",
    "images = [img for img in os.listdir(image_folder) if img.endswith(\".jpeg\")]\n",
    "\n",
    "\n",
    "# 读取第一张图片以确定视频分辨率\n",
    "frame = cv2.imread(os.path.join(image_folder, images[0]))\n",
    "height, width, layers = frame.shape\n",
    "\n",
    "# 定义视频编码和创建 VideoWriter 对象\n",
    "video = cv2.VideoWriter(video_name, cv2.VideoWriter_fourcc(*'DIVX'), 10, (width, height))\n",
    "\n",
    "for image in images:\n",
    "    video.write(cv2.imread(os.path.join(image_folder, image)))\n",
    "\n",
    "cv2.destroyAllWindows()\n",
    "video.release()"
   ]
  },
  {
   "cell_type": "code",
   "execution_count": 2,
   "id": "d007f961",
   "metadata": {},
   "outputs": [
    {
     "name": "stdout",
     "output_type": "stream",
     "text": [
      "123\n"
     ]
    }
   ],
   "source": [
    "print(\"123\")"
   ]
  },
  {
   "cell_type": "code",
   "execution_count": null,
   "id": "b2e8408c",
   "metadata": {},
   "outputs": [],
   "source": []
  }
 ],
 "metadata": {
  "kernelspec": {
   "display_name": "Python 3 (ipykernel)",
   "language": "python",
   "name": "python3"
  },
  "language_info": {
   "codemirror_mode": {
    "name": "ipython",
    "version": 3
   },
   "file_extension": ".py",
   "mimetype": "text/x-python",
   "name": "python",
   "nbconvert_exporter": "python",
   "pygments_lexer": "ipython3",
   "version": "3.10.4"
  }
 },
 "nbformat": 4,
 "nbformat_minor": 5
}
