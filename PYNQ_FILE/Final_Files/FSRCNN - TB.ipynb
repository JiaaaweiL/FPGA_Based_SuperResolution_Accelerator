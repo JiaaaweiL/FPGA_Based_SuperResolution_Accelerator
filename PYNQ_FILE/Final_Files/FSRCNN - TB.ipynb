{
 "cells": [
  {
   "cell_type": "code",
   "execution_count": 106,
   "metadata": {
    "scrolled": true
   },
   "outputs": [],
   "source": [
    "from pynq import Overlay\n",
    "import pynq.lib.dma\n",
    "overlay = Overlay('V_4_bitstream.bit')\n"
   ]
  },
  {
   "cell_type": "code",
   "execution_count": null,
   "metadata": {},
   "outputs": [],
   "source": []
  },
  {
   "cell_type": "code",
   "execution_count": 107,
   "metadata": {},
   "outputs": [
    {
     "name": "stderr",
     "output_type": "stream",
     "text": [
      "\u001b[1m--- Opening /dev/video0...\n",
      "\u001b[0m\u001b[0mTrying source module v4l2...\n",
      "\u001b[0m\u001b[0m/dev/video0 opened.\n",
      "\u001b[0m\u001b[0mNo input was specified, using the first.\n",
      "\u001b[0m\u001b[0mAdjusting resolution from 384x288 to 352x288.\n",
      "\u001b[0m\u001b[1m--- Capturing frame...\n",
      "\u001b[0m\u001b[0mCaptured frame in 0.00 seconds.\n",
      "\u001b[0m"
     ]
    },
    {
     "name": "stdout",
     "output_type": "stream",
     "text": [
      "Image resized and saved as 'webcam_0_resized.jpeg'\n"
     ]
    },
    {
     "name": "stderr",
     "output_type": "stream",
     "text": [
      "\u001b[1m--- Processing captured image...\n",
      "\u001b[0m\u001b[0mWriting JPEG image to 'images/webcam_0.jpeg'.\n",
      "\u001b[0m"
     ]
    }
   ],
   "source": [
    "import os\n",
    "import cv2\n",
    "\n",
    "os.makedirs('images', exist_ok=True)\n",
    "os.makedirs('outimages', exist_ok=True)\n",
    "for i in range(1):\n",
    "    original_filename = f\"webcam_{i}.jpeg\"\n",
    "    resized_filename = f\"webcam_{i}_resized.jpeg\"\n",
    "    os.system(f\"fswebcam images/{original_filename}\")\n",
    "\n",
    "    image = cv2.imread(f\"images/{original_filename}\")\n",
    "\n",
    "\n",
    "    if image is not None:\n",
    "    \n",
    "        resized_image = cv2.resize(image, (64, 64))\n",
    "\n",
    "        cv2.imwrite(f\"images/{resized_filename}\", resized_image)\n",
    "        print(f\"Image resized and saved as '{resized_filename}'\")\n",
    "    else:\n",
    "        print(f\"Error: Image '{original_filename}' not found or unable to read.\")\n"
   ]
  },
  {
   "cell_type": "code",
   "execution_count": null,
   "metadata": {},
   "outputs": [],
   "source": []
  },
  {
   "cell_type": "code",
   "execution_count": 108,
   "metadata": {},
   "outputs": [],
   "source": [
    "overlay.download()"
   ]
  },
  {
   "cell_type": "code",
   "execution_count": 109,
   "metadata": {},
   "outputs": [
    {
     "name": "stdout",
     "output_type": "stream",
     "text": [
      "axi_dma_0\n",
      "FSRCNN_0\n",
      "processing_system7_0\n"
     ]
    }
   ],
   "source": [
    "overlay.hierarchy_dict\n",
    "for i in overlay.ip_dict:\n",
    "    print(i)"
   ]
  },
  {
   "cell_type": "code",
   "execution_count": 110,
   "metadata": {
    "scrolled": false
   },
   "outputs": [],
   "source": [
    "dma = overlay.axi_dma_0"
   ]
  },
  {
   "cell_type": "code",
   "execution_count": 111,
   "metadata": {
    "scrolled": true
   },
   "outputs": [
    {
     "name": "stdout",
     "output_type": "stream",
     "text": [
      "Input image size:  (64, 64, 3)\n",
      "height =  64\n"
     ]
    }
   ],
   "source": [
    "import cv2\n",
    "import numpy as np\n",
    "in_img = cv2.imread('images/webcam_0_resized.jpeg')\n",
    "height, width, nr_of_channels = in_img.shape\n",
    "print('Input image size: ',in_img.shape)\n",
    "print(\"height = \", height)"
   ]
  },
  {
   "cell_type": "code",
   "execution_count": 112,
   "metadata": {},
   "outputs": [],
   "source": [
    "#write the constants to the respective addresses\n",
    "FSRCNN_ip = overlay.FSRCNN_0\n",
    "scale_factor = 2\n",
    "FSRCNN_ip.write(0x10,height)                            \n",
    "FSRCNN_ip.write(0x18,width)  \n",
    "FSRCNN_ip.write(0x20,scale_factor)                                                  \n",
    "#verif_input_width = FSRCNN_ip.read(0x18)\n",
    "verif_scale_factor = FSRCNN_ip.read(0x20)\n"
   ]
  },
  {
   "cell_type": "code",
   "execution_count": 113,
   "metadata": {},
   "outputs": [],
   "source": [
    "from   pynq import allocate\n",
    "import time\n",
    "out_height = scale_factor*height\n",
    "out_width  = scale_factor*width\n",
    "size_stream_in    = height*width\n",
    "size_stream_out   = out_height*out_width\n",
    "red_channel_in    = allocate(shape=(size_stream_in,1),  dtype=np.uint32)\n",
    "red_channel_out   = allocate(shape=(size_stream_out,1), dtype=np.uint32)\n",
    "green_channel_in  = allocate(shape=(size_stream_in,1),  dtype=np.uint32)\n",
    "green_channel_out = allocate(shape=(size_stream_out,1), dtype=np.uint32)\n",
    "blue_channel_in   = allocate(shape=(size_stream_in,1),  dtype=np.uint32)\n",
    "blue_channel_out  = allocate(shape=(size_stream_out,1), dtype=np.uint32)\n",
    "k= 0\n",
    "for i in range(height):\n",
    "    for j in range(width):\n",
    "            red_channel_in[k,0]   = in_img[i,j,0]\n",
    "            green_channel_in[k,0] = in_img[i,j,1]\n",
    "            blue_channel_in[k,0]  = in_img[i,j,2]\n",
    "            k = k + 1"
   ]
  },
  {
   "cell_type": "code",
   "execution_count": 114,
   "metadata": {},
   "outputs": [
    {
     "ename": "KeyboardInterrupt",
     "evalue": "",
     "output_type": "error",
     "traceback": [
      "\u001b[0;31m---------------------------------------------------------------------------\u001b[0m",
      "\u001b[0;31mKeyboardInterrupt\u001b[0m                         Traceback (most recent call last)",
      "Input \u001b[0;32mIn [114]\u001b[0m, in \u001b[0;36m<cell line: 9>\u001b[0;34m()\u001b[0m\n\u001b[1;32m      8\u001b[0m stop_time \u001b[38;5;241m=\u001b[39m time\u001b[38;5;241m.\u001b[39mtime()\n\u001b[1;32m      9\u001b[0m \u001b[38;5;28;01mwith\u001b[39;00m suppress(\u001b[38;5;167;01mRuntimeError\u001b[39;00m): \n\u001b[0;32m---> 10\u001b[0m     \u001b[43mdma\u001b[49m\u001b[38;5;241;43m.\u001b[39;49m\u001b[43mrecvchannel\u001b[49m\u001b[38;5;241;43m.\u001b[39;49m\u001b[43mwait\u001b[49m\u001b[43m(\u001b[49m\u001b[43m)\u001b[49m\n\u001b[1;32m     11\u001b[0m red_channel_hw_exec_time \u001b[38;5;241m=\u001b[39m stop_time \u001b[38;5;241m-\u001b[39m start_time\n",
      "File \u001b[0;32m/usr/local/share/pynq-venv/lib/python3.10/site-packages/pynq/lib/dma.py:172\u001b[0m, in \u001b[0;36m_SDMAChannel.wait\u001b[0;34m(self)\u001b[0m\n\u001b[1;32m    170\u001b[0m \u001b[38;5;28;01mwhile\u001b[39;00m \u001b[38;5;28;01mTrue\u001b[39;00m:\n\u001b[1;32m    171\u001b[0m     error \u001b[38;5;241m=\u001b[39m \u001b[38;5;28mself\u001b[39m\u001b[38;5;241m.\u001b[39m_mmio\u001b[38;5;241m.\u001b[39mread(\u001b[38;5;28mself\u001b[39m\u001b[38;5;241m.\u001b[39m_offset \u001b[38;5;241m+\u001b[39m \u001b[38;5;241m4\u001b[39m)\n\u001b[0;32m--> 172\u001b[0m     \u001b[38;5;28;01mif\u001b[39;00m \u001b[38;5;28;43mself\u001b[39;49m\u001b[38;5;241;43m.\u001b[39;49m\u001b[43merror\u001b[49m:\n\u001b[1;32m    173\u001b[0m         \u001b[38;5;28;01mif\u001b[39;00m error \u001b[38;5;241m&\u001b[39m \u001b[38;5;241m0x10\u001b[39m:\n\u001b[1;32m    174\u001b[0m             \u001b[38;5;28;01mraise\u001b[39;00m \u001b[38;5;167;01mRuntimeError\u001b[39;00m(\u001b[38;5;124m\"\u001b[39m\u001b[38;5;124mDMA Internal Error (transfer length 0?)\u001b[39m\u001b[38;5;124m\"\u001b[39m)\n",
      "File \u001b[0;32m/usr/local/share/pynq-venv/lib/python3.10/site-packages/pynq/lib/dma.py:85\u001b[0m, in \u001b[0;36m_SDMAChannel.error\u001b[0;34m(self)\u001b[0m\n\u001b[1;32m     82\u001b[0m \u001b[38;5;129m@property\u001b[39m\n\u001b[1;32m     83\u001b[0m \u001b[38;5;28;01mdef\u001b[39;00m \u001b[38;5;21merror\u001b[39m(\u001b[38;5;28mself\u001b[39m):\n\u001b[1;32m     84\u001b[0m     \u001b[38;5;124;03m\"\"\"True if DMA engine is in an error state\"\"\"\u001b[39;00m\n\u001b[0;32m---> 85\u001b[0m     \u001b[38;5;28;01mreturn\u001b[39;00m \u001b[38;5;28;43mself\u001b[39;49m\u001b[38;5;241;43m.\u001b[39;49m\u001b[43m_mmio\u001b[49m\u001b[38;5;241;43m.\u001b[39;49m\u001b[43mread\u001b[49m\u001b[43m(\u001b[49m\u001b[38;5;28;43mself\u001b[39;49m\u001b[38;5;241;43m.\u001b[39;49m\u001b[43m_offset\u001b[49m\u001b[43m \u001b[49m\u001b[38;5;241;43m+\u001b[39;49m\u001b[43m \u001b[49m\u001b[38;5;241;43m4\u001b[39;49m\u001b[43m)\u001b[49m \u001b[38;5;241m&\u001b[39m \u001b[38;5;241m0x70\u001b[39m \u001b[38;5;241m!=\u001b[39m \u001b[38;5;241m0x0\u001b[39m\n",
      "File \u001b[0;32m/usr/local/share/pynq-venv/lib/python3.10/site-packages/pynq/mmio.py:121\u001b[0m, in \u001b[0;36mMMIO.read\u001b[0;34m(self, offset, length, word_order)\u001b[0m\n\u001b[1;32m    118\u001b[0m     \u001b[38;5;28;01mraise\u001b[39;00m \u001b[38;5;167;01mMemoryError\u001b[39;00m(\u001b[38;5;124m\"\u001b[39m\u001b[38;5;124mUnaligned read: offset must be multiple of 4.\u001b[39m\u001b[38;5;124m\"\u001b[39m)\n\u001b[1;32m    120\u001b[0m \u001b[38;5;66;03m# Read data out\u001b[39;00m\n\u001b[0;32m--> 121\u001b[0m lsb \u001b[38;5;241m=\u001b[39m \u001b[38;5;28;43mint\u001b[39;49m\u001b[43m(\u001b[49m\u001b[38;5;28;43mself\u001b[39;49m\u001b[38;5;241;43m.\u001b[39;49m\u001b[43marray\u001b[49m\u001b[43m[\u001b[49m\u001b[43midx\u001b[49m\u001b[43m]\u001b[49m\u001b[43m)\u001b[49m\n\u001b[1;32m    122\u001b[0m \u001b[38;5;28;01mif\u001b[39;00m length \u001b[38;5;241m==\u001b[39m \u001b[38;5;241m8\u001b[39m:\n\u001b[1;32m    123\u001b[0m     \u001b[38;5;28;01mif\u001b[39;00m word_order \u001b[38;5;241m==\u001b[39m \u001b[38;5;124m\"\u001b[39m\u001b[38;5;124mlittle\u001b[39m\u001b[38;5;124m\"\u001b[39m:\n",
      "\u001b[0;31mKeyboardInterrupt\u001b[0m: "
     ]
    }
   ],
   "source": [
    "import time\n",
    "from contextlib import suppress\n",
    "start_time = time.time()\n",
    "# Trigger the DMA transfer and wait for the result\n",
    "dma.sendchannel.transfer(red_channel_in)  #python - dma - accelerator PYNQ\n",
    "dma.recvchannel.transfer(red_channel_out) #PYNQ accelerator - dma - python\n",
    "dma.sendchannel.wait()                    #makes sure that does not move on until the transfer is effectuated\n",
    "stop_time = time.time()\n",
    "with suppress(RuntimeError): \n",
    "    dma.recvchannel.wait()\n",
    "red_channel_hw_exec_time = stop_time - start_time"
   ]
  },
  {
   "cell_type": "code",
   "execution_count": null,
   "metadata": {},
   "outputs": [],
   "source": [
    "overlay = Overlay('V_4_bitstream.bit')\n",
    "# Load the DMA\n",
    "dma = overlay.axi_dma_0 \n",
    "# Load FSRCNN IP\n",
    "FSRCNN_ip = overlay.FSRCNN_0"
   ]
  },
  {
   "cell_type": "code",
   "execution_count": null,
   "metadata": {},
   "outputs": [],
   "source": [
    "start_time = time.time()\n",
    "# Trigger the DMA transfer and wait for the result\n",
    "dma.sendchannel.transfer(green_channel_in)  #python - dma - accelerator PYNQ\n",
    "dma.recvchannel.transfer(green_channel_out) #PYNQ accelerator - dma - python\n",
    "dma.sendchannel.wait()                      #makes sure that does not move on until the transfer is effectuated\n",
    "stop_time = time.time()\n",
    "with suppress(RuntimeError):\n",
    "    dma.recvchannel.wait()\n",
    "green_channel_hw_exec_time = stop_time - start_time"
   ]
  },
  {
   "cell_type": "code",
   "execution_count": null,
   "metadata": {},
   "outputs": [],
   "source": [
    "overlay = Overlay('modified_mem.bit')\n",
    "# Load the DMA\n",
    "dma = overlay.axi_dma_0 \n",
    "# Load FSRCNN IP\n",
    "FSRCNN_ip = overlay.FSRCNN_0"
   ]
  },
  {
   "cell_type": "code",
   "execution_count": null,
   "metadata": {},
   "outputs": [],
   "source": [
    "start_time = time.time()\n",
    "# Trigger the DMA transfer and wait for the result\n",
    "dma.sendchannel.transfer(blue_channel_in)  #python - dma - accelerator PYNQ\n",
    "dma.recvchannel.transfer(blue_channel_out) #PYNQ accelerator - dma - python\n",
    "dma.sendchannel.wait()                     #makes sure that does not move on until the transfer is effectuated\n",
    "stop_time = time.time()\n",
    "with suppress(RuntimeError):\n",
    "    dma.recvchannel.wait()\n",
    "blue_channel_hw_exec_time = stop_time - start_time"
   ]
  },
  {
   "cell_type": "code",
   "execution_count": null,
   "metadata": {},
   "outputs": [],
   "source": [
    "\n",
    "hw_exec_time = red_channel_hw_exec_time + green_channel_hw_exec_time + blue_channel_hw_exec_time\n",
    "print('Hardware FSRCNN execution time: ',hw_exec_time)"
   ]
  },
  {
   "cell_type": "code",
   "execution_count": null,
   "metadata": {},
   "outputs": [],
   "source": [
    "out_img = np.zeros((out_height, out_width, nr_of_channels))\n",
    "print('Output image size: ',out_img.shape)\n",
    "k = 0\n",
    "for i in range(out_height):\n",
    "    for j in range(out_width):\n",
    "            red_channel_bin = np.binary_repr(red_channel_out[k,0], width = 32)\n",
    "            out_img[i,j,0] = int(str(red_channel_bin[24:32]), 2)\n",
    "            green_channel_bin = np.binary_repr(green_channel_out[k,0], width = 32)\n",
    "            out_img[i,j,1] = int(str(green_channel_bin[24:32]), 2)\n",
    "            blue_channel_bin = np.binary_repr(blue_channel_out[k,0], width = 32)\n",
    "            out_img[i,j,2] = int(str(blue_channel_bin[24:32]), 2)\n",
    "            k = k+1\n",
    "cv2.imwrite('/outimages/output_128x128{i}.jpeg', out_img)\n",
    "#cv2.imshow('output_image',out_img)\n",
    "#cv2.waitKey(0)"
   ]
  },
  {
   "cell_type": "code",
   "execution_count": null,
   "metadata": {},
   "outputs": [],
   "source": []
  },
  {
   "cell_type": "code",
   "execution_count": null,
   "metadata": {},
   "outputs": [],
   "source": []
  },
  {
   "cell_type": "code",
   "execution_count": null,
   "metadata": {},
   "outputs": [],
   "source": []
  }
 ],
 "metadata": {
  "kernelspec": {
   "display_name": "Python 3 (ipykernel)",
   "language": "python",
   "name": "python3"
  },
  "language_info": {
   "codemirror_mode": {
    "name": "ipython",
    "version": 3
   },
   "file_extension": ".py",
   "mimetype": "text/x-python",
   "name": "python",
   "nbconvert_exporter": "python",
   "pygments_lexer": "ipython3",
   "version": "3.10.4"
  }
 },
 "nbformat": 4,
 "nbformat_minor": 2
}
